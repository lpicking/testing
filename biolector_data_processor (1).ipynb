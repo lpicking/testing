{
 "cells": [
  {
   "cell_type": "markdown",
   "metadata": {},
   "source": [
    "# Biolector Data Processor\n",
    "\n",
    "Upload raw data files to [Upload Raw Data Here](http://preston.zymergen.net:8892/tree/biolector_data_processor/Upload%20Raw%20Data%20Here) folder, then run the cell below."
   ]
  },
  {
   "cell_type": "code",
   "execution_count": null,
   "metadata": {},
   "outputs": [],
   "source": [
    "import csv\n",
    "import os\n",
    "import pandas as pd\n",
    "import numpy as np\n",
    "import ipywidgets as widgets\n",
    "\n",
    "file_options = os.listdir('Upload Raw Data Here')\n",
    "file_options = [x for x in file_options if x != '.ipynb_checkpoints']\n",
    "\n",
    "files = widgets.SelectMultiple(\n",
    "    options=file_options,\n",
    "    rows=10,\n",
    "    description='Select File(s): ',\n",
    "    disabled=False\n",
    ")\n",
    "\n",
    "display(files)"
   ]
  },
  {
   "cell_type": "markdown",
   "metadata": {},
   "source": [
    "## Once you have selected your file(s), go to \"Cell\" menu above and select \"Run All Below\"\n",
    "\n",
    "Processed data files can be downloaded from [Download Processed Data Here](http://preston.zymergen.net:8892/tree/biolector_data_processor/Download%20Processed%20Data%20Here)"
   ]
  },
  {
   "cell_type": "code",
   "execution_count": null,
   "metadata": {},
   "outputs": [],
   "source": [
    "file_names = list(files.value)"
   ]
  },
  {
   "cell_type": "code",
   "execution_count": null,
   "metadata": {},
   "outputs": [],
   "source": [
    "def process_biolector_data(file_name):\n",
    "    \n",
    "    raw_data = pd.read_excel(str(file_name), sheet_name='raw_data', index_col=None, header=None, skiprows=22)\n",
    "\n",
    "    rdt = raw_data.T\n",
    "    d1 = rdt.loc[4:]\n",
    "    d2 = d1[d1.columns[3:]]\n",
    "    well_names = list((rdt.loc[0]).loc[3:])\n",
    "    descriptions = list((rdt.loc[2]).loc[3:])\n",
    "    channel = list((rdt.loc[3]).loc[3:])\n",
    "\n",
    "    d2.columns = [well_names, descriptions, channel]\n",
    "    d2.columns.names = ['well_name', 'description', 'channel']\n",
    "\n",
    "    cols = rdt.columns.tolist()\n",
    "    new_cols = cols[-4:]\n",
    "    new_cols.append(cols[2])\n",
    "    new_cols = new_cols[-1:] + new_cols[:-1]\n",
    "    actuals = rdt[new_cols].loc[4:]\n",
    "    actuals.columns = ['time_h', 'ACT.TEMP', 'ACT.HUMIDITY', 'ACT.O2', 'ACT.CO2']\n",
    "    actuals.reset_index(drop=True, inplace=True)\n",
    "    d2.index = actuals\n",
    "    d2.index.name = 'temp_index'\n",
    "    d2 = d2[d2.columns[:288]]\n",
    "\n",
    "    d3 = d2.unstack().reset_index()\n",
    "    d3.columns = ['well_name', 'description', 'channel', 'temp_index', 'vals']\n",
    "    d4 = d3.description.str.split('|', expand=True).rename(columns = lambda x: \"description_\" + str(x+1))\n",
    "    d5 = d3.join(d4)\n",
    "    temp_index = pd.DataFrame(d5.temp_index.tolist(), index=d3.index)\n",
    "    temp_index.columns = ['time_h', 'actual_temp_C', 'actual_humidity_percent', 'actual_O2_percent', 'actual_CO2_percent']\n",
    "    d6 = d5.join(temp_index)\n",
    "\n",
    "    d6['index_tuple'] = list(zip(d6.well_name,\n",
    "                                 d6.description_1,\n",
    "                                 d6.description_2,\n",
    "                                 d6.description_3,\n",
    "                                 d6.description_4,\n",
    "                                 d6.time_h, \n",
    "                                 d6.actual_temp_C, \n",
    "                                 d6.actual_humidity_percent, \n",
    "                                 d6.actual_O2_percent, \n",
    "                                 d6.actual_CO2_percent))\n",
    "\n",
    "    d7 = d6.pivot(index='index_tuple', columns='channel', values=['vals'])\n",
    "\n",
    "    d7_cols = list(d7.columns.levels[1])\n",
    "    for x in range(len(d7_cols)):\n",
    "        if type(d7_cols[x]) == int:\n",
    "            d7_cols[x] = 'channel_' + str(d7_cols[x])\n",
    "        else:\n",
    "            continue\n",
    "\n",
    "    d7.columns = d7_cols\n",
    "\n",
    "    d8 = d7.reset_index()\n",
    "    index_tuple = pd.DataFrame(d8.index_tuple.tolist(), index=d8.index_tuple)\n",
    "    index_tuple.reset_index(inplace=True)\n",
    "    index_tuple.columns = ['index_tuple',\n",
    "                           'well_name',\n",
    "                           'description_1',\n",
    "                           'description_2',\n",
    "                           'description_3',\n",
    "                           'description_4',\n",
    "                           'time_h',\n",
    "                           'actual_temp_C',\n",
    "                           'actual_humidity_percent',\n",
    "                           'actual_O2_percent',\n",
    "                           'actual_CO2_percent']\n",
    "\n",
    "    new_data = index_tuple.merge(d8, on='index_tuple').drop(['index_tuple'], axis=1)\n",
    "    return new_data"
   ]
  },
  {
   "cell_type": "code",
   "execution_count": null,
   "metadata": {},
   "outputs": [],
   "source": [
    "for x in file_names:\n",
    "    os.chdir('Upload Raw Data Here')\n",
    "    \n",
    "    new_data = process_biolector_data(x)\n",
    "    \n",
    "    os.chdir('..')\n",
    "    os.chdir('Download Processed Data Here')\n",
    "    \n",
    "    csv_name = x[:-5] + '.csv'\n",
    "    new_data.to_csv(csv_name, index=False)\n",
    "    \n",
    "    os.chdir('..')"
   ]
  }
 ],
 "metadata": {
  "kernelspec": {
   "display_name": "Python 3",
   "language": "python",
   "name": "python3"
  },
  "language_info": {
   "codemirror_mode": {
    "name": "ipython",
    "version": 3
   },
   "file_extension": ".py",
   "mimetype": "text/x-python",
   "name": "python",
   "nbconvert_exporter": "python",
   "pygments_lexer": "ipython3",
   "version": "3.6.3"
  }
 },
 "nbformat": 4,
 "nbformat_minor": 2
}
